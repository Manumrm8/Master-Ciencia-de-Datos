{
 "cells": [
  {
   "cell_type": "markdown",
   "metadata": {},
   "source": [
    "Manuel Rubio y Rubén Castillo "
   ]
  },
  {
   "cell_type": "markdown",
   "metadata": {},
   "source": [
    "Librerias"
   ]
  },
  {
   "cell_type": "code",
   "execution_count": 103,
   "metadata": {},
   "outputs": [],
   "source": [
    "import pandas as pd\n",
    "import numpy as np\n",
    "from collections import Counter"
   ]
  },
  {
   "cell_type": "markdown",
   "metadata": {},
   "source": [
    "Funciones"
   ]
  },
  {
   "cell_type": "code",
   "execution_count": 104,
   "metadata": {},
   "outputs": [],
   "source": [
    "def entropia(x):\n",
    "    # x es el número que hay de cada clase\n",
    "    suma=0\n",
    "    cosas=1/sum(x)\n",
    "    x = [elemento * cosas for elemento in x]\n",
    "    for i in x:\n",
    "        suma+= -np.log2(i)*i\n",
    "    return suma\n",
    "\n",
    "def entropia_gini(x):\n",
    "    # x es el número que hay de cada clase\n",
    "    suma=0\n",
    "    cosas=1/sum(x)\n",
    "    x = [elemento * cosas for elemento in x]\n",
    "    for i in x:\n",
    "        suma+= -np.log2(i)*(1-i)\n",
    "    return suma\n",
    "\n",
    "def ganar_información(df,i,metodo=entropia):\n",
    "    valores_distintos=set(df[i])\n",
    "    total=len(df[i])\n",
    "    valor=0\n",
    "    for j in valores_distintos:\n",
    "        indices= list(df[i]==j)\n",
    "        total_subconjunto=sum(indices)\n",
    "        frecuencias = Counter(df.loc[indices,'PlayTennis'])\n",
    "        x=list(frecuencias.values())\n",
    "        \n",
    "        \n",
    "        valor+= total_subconjunto/total*metodo(x)\n",
    "\n",
    "    frecuencias = Counter(df['PlayTennis'])\n",
    "    x=list(frecuencias.values())\n",
    "    entropy=metodo(x)\n",
    "    valor=entropy-valor\n",
    "    return(valor)"
   ]
  },
  {
   "cell_type": "markdown",
   "metadata": {},
   "source": [
    "# Datos:"
   ]
  },
  {
   "cell_type": "code",
   "execution_count": 105,
   "metadata": {},
   "outputs": [
    {
     "name": "stdout",
     "output_type": "stream",
     "text": [
      "   Outlook Temperature Humidity  Windy  PlayTennis\n",
      "0        s           h        h  False           0\n",
      "1        s           h        h   True           0\n",
      "2        o           h        h  False           1\n",
      "3        r           m        h  False           1\n",
      "4        r           c        n  False           1\n",
      "5        r           c        n   True           0\n",
      "6        o           c        n   True           1\n",
      "7        s           m        h  False           0\n",
      "8        s           c        n  False           1\n",
      "9        r           m        n  False           1\n",
      "10       s           m        n   True           1\n",
      "11       o           m        h   True           1\n",
      "12       o           h        n  False           1\n",
      "13       r           m        h   True           0\n",
      "\n",
      "Tengo a 5 que no juegan al tenis y a 9 que si juegan\n"
     ]
    }
   ],
   "source": [
    "data = {'Outlook':    ['s','s','o','r','r','r','o','s','s','r','s','o','o','r'],\n",
    "        'Temperature':['h','h','h','m','c','c','c','m','c','m','m','m','h','m'],\n",
    "        'Humidity':   ['h','h','h','h','n','n','n','h','n','n','n','h','n','h'],\n",
    "        'Windy':      [False,True,False,False,False,True,True,False,False,False,True,True,False,True],\n",
    "        'PlayTennis':[0,0,1,1,1,0,1,0,1,1,1,1,1,0]}\n",
    "\n",
    "df = pd.DataFrame(data)\n",
    "\n",
    "print(df)\n",
    "\n",
    "frecuencias = Counter(data[\"PlayTennis\"])\n",
    "a=frecuencias[0]\n",
    "b=frecuencias[1]\n",
    "print(f\"\\nTengo a {a} que no juegan al tenis y a {b} que si juegan\")"
   ]
  },
  {
   "cell_type": "markdown",
   "metadata": {},
   "source": [
    "### Entropía de los datos:"
   ]
  },
  {
   "cell_type": "code",
   "execution_count": 106,
   "metadata": {},
   "outputs": [],
   "source": [
    "x=list(frecuencias.values())\n",
    "entropia(x)\n",
    "clases=[]"
   ]
  },
  {
   "cell_type": "markdown",
   "metadata": {},
   "source": [
    "# Cálculo de la primera característica"
   ]
  },
  {
   "cell_type": "markdown",
   "metadata": {},
   "source": [
    "## Cálculo de la mejor variable por el método de la entropía"
   ]
  },
  {
   "cell_type": "code",
   "execution_count": 107,
   "metadata": {},
   "outputs": [
    {
     "name": "stdout",
     "output_type": "stream",
     "text": [
      "La variable Outlook da una ganancia de información de 0.24674981977443933\n",
      "La variable Temperature da una ganancia de información de 0.02922256565895487\n",
      "La variable Humidity da una ganancia de información de 0.15183550136234159\n",
      "La variable Windy da una ganancia de información de 0.04812703040826949\n",
      "\n",
      "La mejor variable es Outlook con una ganancia de información de 0.24674981977443933\n"
     ]
    }
   ],
   "source": [
    "variables=list(df.columns)\n",
    "maximo=0\n",
    "for i in variables[:-1]:\n",
    "    ganancia=ganar_información(df,i)\n",
    "    if ganancia>maximo:\n",
    "        maximo=ganancia\n",
    "        variable=i\n",
    "    print(f\"La variable {i} da una ganancia de información de {ganancia}\")\n",
    "print(f\"\\nLa mejor variable es {variable} con una ganancia de información de {maximo}\")"
   ]
  },
  {
   "cell_type": "markdown",
   "metadata": {},
   "source": [
    "Me quedo con la variable Outlook y hago los 3 nodos que genera:"
   ]
  },
  {
   "cell_type": "code",
   "execution_count": 108,
   "metadata": {},
   "outputs": [
    {
     "name": "stdout",
     "output_type": "stream",
     "text": [
      "La caracteristica r genera un nodo Counter({1: 3, 0: 2})\n",
      "La caracteristica s genera un nodo Counter({0: 3, 1: 2})\n",
      "La caracteristica o genera un nodo Counter({1: 4})\n"
     ]
    }
   ],
   "source": [
    "caracteristicas=set(df[\"Outlook\"])\n",
    "for i in caracteristicas:\n",
    "    frecuencias = Counter(df[df[\"Outlook\"]==i][\"PlayTennis\"])\n",
    "    print(f'La caracteristica {i} genera un nodo {frecuencias}')\n"
   ]
  },
  {
   "cell_type": "markdown",
   "metadata": {},
   "source": [
    "Con esto generamos 2 nodos nuevos, uno con r y otro con s, mientras que sale una hoja con o al ser un grupo homogéneo"
   ]
  },
  {
   "cell_type": "markdown",
   "metadata": {},
   "source": [
    "## Con el método de gini:"
   ]
  },
  {
   "cell_type": "code",
   "execution_count": 109,
   "metadata": {},
   "outputs": [
    {
     "name": "stdout",
     "output_type": "stream",
     "text": [
      "La variable Outlook da una ganancia de información de 0.4054685786871174\n",
      "La variable Temperature da una ganancia de información de -0.09777296114265299\n",
      "La variable Humidity da una ganancia de información de -0.5587260969708601\n",
      "La variable Windy da una ganancia de información de -0.16243456792493194\n",
      "\n",
      "La mejor variable es Outlook con una ganancia de información de 0.4054685786871174\n"
     ]
    }
   ],
   "source": [
    "maximo=0\n",
    "for i in variables[:-1]:\n",
    "    ganancia=ganar_información(df,i, metodo=entropia_gini)\n",
    "    if ganancia>maximo:\n",
    "        maximo=ganancia\n",
    "        variable=i\n",
    "    print(f\"La variable {i} da una ganancia de información de {ganancia}\")\n",
    "print(f\"\\nLa mejor variable es {variable} con una ganancia de información de {maximo}\")"
   ]
  },
  {
   "cell_type": "markdown",
   "metadata": {},
   "source": [
    "Sale la misma."
   ]
  },
  {
   "cell_type": "markdown",
   "metadata": {},
   "source": [
    "# Cálculo segunda característica"
   ]
  },
  {
   "cell_type": "markdown",
   "metadata": {},
   "source": [
    "## Para la primera rama (rainy):"
   ]
  },
  {
   "cell_type": "code",
   "execution_count": 110,
   "metadata": {},
   "outputs": [
    {
     "name": "stdout",
     "output_type": "stream",
     "text": [
      "   Temperature Humidity  Windy  PlayTennis\n",
      "3            m        h  False           1\n",
      "4            c        n  False           1\n",
      "5            c        n   True           0\n",
      "9            m        n  False           1\n",
      "13           m        h   True           0\n"
     ]
    }
   ],
   "source": [
    "subset_rainy=df[df[\"Outlook\"]==\"r\"]\n",
    "subset_rainy=subset_rainy.drop(columns=[\"Outlook\"])\n",
    "print(subset_rainy)"
   ]
  },
  {
   "cell_type": "code",
   "execution_count": 111,
   "metadata": {},
   "outputs": [
    {
     "name": "stdout",
     "output_type": "stream",
     "text": [
      "La variable Temperature da una ganancia de información de 0.01997309402197489\n",
      "La variable Humidity da una ganancia de información de 0.01997309402197489\n",
      "La variable Windy da una ganancia de información de 0.9709505944546686\n",
      "\n",
      "La mejor variable es Windy con una ganancia de información de 0.9709505944546686\n"
     ]
    }
   ],
   "source": [
    "variables=list(subset_rainy.columns)[:-1]\n",
    "maximo=0\n",
    "for i in variables:\n",
    "    ganancia=ganar_información(subset_rainy,i)\n",
    "    if ganancia>maximo:\n",
    "        maximo=ganancia\n",
    "        variable=i\n",
    "    print(f\"La variable {i} da una ganancia de información de {ganancia}\")\n",
    "print(f\"\\nLa mejor variable es {variable} con una ganancia de información de {maximo}\")"
   ]
  },
  {
   "cell_type": "markdown",
   "metadata": {},
   "source": [
    "Seleccionamos la variable windy"
   ]
  },
  {
   "cell_type": "code",
   "execution_count": 112,
   "metadata": {},
   "outputs": [
    {
     "name": "stdout",
     "output_type": "stream",
     "text": [
      "La caracteristica False genera un nodo Counter({1: 3})\n",
      "La caracteristica True genera un nodo Counter({0: 2})\n"
     ]
    }
   ],
   "source": [
    "caracteristicas=set(subset_rainy[\"Windy\"])\n",
    "for i in caracteristicas:\n",
    "    frecuencias = Counter(subset_rainy[subset_rainy[\"Windy\"]==i][\"PlayTennis\"])\n",
    "    print(f'La caracteristica {i} genera un nodo {frecuencias}')\n"
   ]
  },
  {
   "cell_type": "markdown",
   "metadata": {},
   "source": [
    "Aquí ya vemos que se nos generan 2 hojas al separarnos en grupos homogéneos los datos"
   ]
  },
  {
   "cell_type": "markdown",
   "metadata": {},
   "source": [
    "## Para la segunda rama (sunny)"
   ]
  },
  {
   "cell_type": "code",
   "execution_count": 113,
   "metadata": {},
   "outputs": [
    {
     "name": "stdout",
     "output_type": "stream",
     "text": [
      "   Temperature Humidity  Windy  PlayTennis\n",
      "0            h        h  False           0\n",
      "1            h        h   True           0\n",
      "7            m        h  False           0\n",
      "8            c        n  False           1\n",
      "10           m        n   True           1\n"
     ]
    }
   ],
   "source": [
    "subset_sunny=df[df[\"Outlook\"]==\"s\"]\n",
    "subset_sunny=subset_sunny.drop(columns=[\"Outlook\"])\n",
    "print(subset_sunny)"
   ]
  },
  {
   "cell_type": "code",
   "execution_count": 114,
   "metadata": {},
   "outputs": [
    {
     "name": "stdout",
     "output_type": "stream",
     "text": [
      "La variable Temperature da una ganancia de información de 0.5709505944546686\n",
      "La variable Humidity da una ganancia de información de 0.9709505944546686\n",
      "La variable Windy da una ganancia de información de 0.01997309402197489\n",
      "\n",
      "La mejor variable es Humidity con una ganancia de información de 0.9709505944546686\n"
     ]
    }
   ],
   "source": [
    "variables=list(subset_sunny.columns)[:-1]\n",
    "maximo=0\n",
    "for i in variables:\n",
    "    ganancia=ganar_información(subset_sunny,i)\n",
    "    if ganancia>maximo:\n",
    "        maximo=ganancia\n",
    "        variable=i\n",
    "    print(f\"La variable {i} da una ganancia de información de {ganancia}\")\n",
    "print(f\"\\nLa mejor variable es {variable} con una ganancia de información de {maximo}\")"
   ]
  },
  {
   "cell_type": "markdown",
   "metadata": {},
   "source": [
    "Seleccionamos la variable Humidity"
   ]
  },
  {
   "cell_type": "code",
   "execution_count": 115,
   "metadata": {},
   "outputs": [
    {
     "name": "stdout",
     "output_type": "stream",
     "text": [
      "La caracteristica h genera un nodo Counter({0: 3})\n",
      "La caracteristica n genera un nodo Counter({1: 2})\n"
     ]
    }
   ],
   "source": [
    "caracteristicas=set(subset_sunny[\"Humidity\"])\n",
    "for i in caracteristicas:\n",
    "    frecuencias = Counter(subset_sunny[subset_sunny[\"Humidity\"]==i][\"PlayTennis\"])\n",
    "    print(f'La caracteristica {i} genera un nodo {frecuencias}')\n"
   ]
  }
 ],
 "metadata": {
  "kernelspec": {
   "display_name": "Python 3",
   "language": "python",
   "name": "python3"
  },
  "language_info": {
   "codemirror_mode": {
    "name": "ipython",
    "version": 3
   },
   "file_extension": ".py",
   "mimetype": "text/x-python",
   "name": "python",
   "nbconvert_exporter": "python",
   "pygments_lexer": "ipython3",
   "version": "3.10.6"
  }
 },
 "nbformat": 4,
 "nbformat_minor": 2
}
